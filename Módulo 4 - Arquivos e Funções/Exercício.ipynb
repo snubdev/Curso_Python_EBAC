{
  "nbformat": 4,
  "nbformat_minor": 0,
  "metadata": {
    "colab": {
      "name": "Exercício | Módulo 4 - Arquivos e Funções.ipynb",
      "provenance": []
    },
    "kernelspec": {
      "name": "python3",
      "display_name": "Python 3"
    },
    "language_info": {
      "name": "python"
    }
  },
  "cells": [
    {
      "cell_type": "markdown",
      "source": [
        "# **1. Funções para arquivo csv**\n"
      ],
      "metadata": {
        "id": "8UTFFa1ligxD"
      }
    },
    {
      "cell_type": "code",
      "execution_count": null,
      "metadata": {
        "colab": {
          "base_uri": "https://localhost:8080/"
        },
        "id": "5SwK61s_hSdK",
        "outputId": "c61ad1ae-9d66-4464-815c-8ae5da333d03"
      },
      "outputs": [
        {
          "output_type": "stream",
          "name": "stdout",
          "text": [
            "Writing carros.csv\n"
          ]
        }
      ],
      "source": [
        "%%writefile carros.csv\n",
        "id,valor_venda,valor_manutencao,portas,pessoas,porta_malas\n",
        "1,vhigh,med,2,2,small\n",
        "2,med,vhigh,2,2,small\n",
        "3,low,vhigh,2,2,small\n",
        "4,low,high,2,2,small\n",
        "5,low,high,2,2,small\n",
        "6,low,high,4,4,big\n",
        "7,low,high,4,4,big\n",
        "8,low,med,2,2,small\n",
        "9,low,med,2,2,small\n",
        "10,low,med,2,2,small\n",
        "11,low,med,4,4,big\n",
        "12,low,low,2,2,small\n",
        "13,low,low,4,4,small\n",
        "14,low,low,4,4,med"
      ]
    },
    {
      "cell_type": "code",
      "source": [
        "def extrai_coluna_csv(nome_arquivo: str, indice_coluna: int, tipo_dado):\n",
        "  coluna = []\n",
        "\n",
        "  with open(file=f'./{nome_arquivo}', mode='r', encoding='utf8') as arquivo:\n",
        "    linha = arquivo.readline()\n",
        "    linha = arquivo.readline()\n",
        "    cont = 0\n",
        "    if tipo_dado == str:\n",
        "      while linha:\n",
        "        linha_separada = linha.split(sep=',')\n",
        "        pessoa = linha_separada[1]\n",
        "        pessoa = str(pessoa)\n",
        "        coluna.append(pessoa)\n",
        "        linha = arquivo.readline()\n",
        "        cont += 1\n",
        "        if cont == indice_coluna:\n",
        "          break\n",
        "    \n",
        "    elif tipo_dado == int:\n",
        "      while linha:\n",
        "        linha_separada = linha.split(sep=',')\n",
        "        pessoa = linha_separada[3]\n",
        "        pessoa = int(pessoa)\n",
        "        coluna.append(pessoa)\n",
        "        linha = arquivo.readline()\n",
        "        cont += 1\n",
        "        if cont == indice_coluna:\n",
        "          break\n",
        "  return coluna\n",
        "\n",
        "print(extrai_coluna_csv('carros.csv', 5, str))\n",
        "print(extrai_coluna_csv('carros.csv', 5, int))"
      ],
      "metadata": {
        "colab": {
          "base_uri": "https://localhost:8080/"
        },
        "id": "5AY4jJ2N4q8a",
        "outputId": "6ee85607-c0a8-4877-d150-8f91f9dd3e25"
      },
      "execution_count": null,
      "outputs": [
        {
          "output_type": "stream",
          "name": "stdout",
          "text": [
            "['vhigh', 'med', 'low', 'low', 'low']\n",
            "[2, 2, 2, 2, 2]\n"
          ]
        }
      ]
    },
    {
      "cell_type": "markdown",
      "source": [
        "# **2. Funções para arquivo txt**\n"
      ],
      "metadata": {
        "id": "67wjjH-LipTE"
      }
    },
    {
      "cell_type": "code",
      "source": [
        "%%writefile musica.txt\n",
        "Roda Viva\n",
        "Chico Buarque\n",
        "Tem dias que a gente se sente\n",
        "Como quem partiu ou morreu\n",
        "A gente estancou de repente\n",
        "Ou foi o mundo então que cresceu\n",
        "A gente quer ter voz ativa\n",
        "No nosso destino mandar\n",
        "Mas eis que chega a roda viva\n",
        "E carrega o destino pra lá\n",
        "Roda mundo, roda-gigante\n",
        "Roda moinho, roda pião\n",
        "O tempo rodou num instante\n",
        "Nas voltas do meu coração\n",
        "A gente vai contra a corrente\n",
        "Até não poder resistir\n",
        "Na volta do barco é que sente\n",
        "O quanto deixou de cumprir\n",
        "Faz tempo que a gente cultiva\n",
        "A mais linda roseira que há\n",
        "Mas eis que chega a roda viva\n",
        "E carrega a roseira pra lá\n",
        "Roda mundo, roda-gigante\n",
        "Roda moinho, roda pião"
      ],
      "metadata": {
        "colab": {
          "base_uri": "https://localhost:8080/"
        },
        "id": "pPqsBSVrvula",
        "outputId": "6e217009-3899-456b-d990-0d48d587bd77"
      },
      "execution_count": null,
      "outputs": [
        {
          "output_type": "stream",
          "name": "stdout",
          "text": [
            "Writing musica.txt\n"
          ]
        }
      ]
    },
    {
      "cell_type": "code",
      "source": [
        "def extrai_linha_text(nome_arquivo: str, numero_linha: int):\n",
        "  palavras_linhas = []\n",
        "\n",
        "  with open(file=f'./{nome_arquivo}', mode='r', encoding='utf8') as arquivo:\n",
        "    texto = arquivo.read()\n",
        "    palavras = texto.split()\n",
        "    cont = 0\n",
        "    while cont < numero_linha:\n",
        "      palavras_linhas.append(palavras[cont])\n",
        "      cont += 1;\n",
        "\n",
        "  return palavras_linhas\n",
        "\n",
        "print(extrai_linha_text('musica.txt', 10))\n",
        "    \n"
      ],
      "metadata": {
        "colab": {
          "base_uri": "https://localhost:8080/"
        },
        "id": "adykzCx2hvOw",
        "outputId": "bed5d956-3940-4c53-f4f6-b8aee75de6f8"
      },
      "execution_count": null,
      "outputs": [
        {
          "output_type": "stream",
          "name": "stdout",
          "text": [
            "['Roda', 'Viva', 'Chico', 'Buarque', 'Tem', 'dias', 'que', 'a', 'gente', 'se']\n"
          ]
        }
      ]
    }
  ]
}