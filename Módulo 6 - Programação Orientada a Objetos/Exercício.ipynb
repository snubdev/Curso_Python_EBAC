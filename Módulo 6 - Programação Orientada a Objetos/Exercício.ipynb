{
  "nbformat": 4,
  "nbformat_minor": 0,
  "metadata": {
    "colab": {
      "name": "Exercício | Módulo 6 - Programação Orientada a Objetos.ipynb",
      "provenance": [],
      "collapsed_sections": []
    },
    "kernelspec": {
      "name": "python3",
      "display_name": "Python 3"
    },
    "language_info": {
      "name": "python"
    }
  },
  "cells": [
    {
      "cell_type": "markdown",
      "source": [
        "# **1. Classe para ler arquivos de texto**\n"
      ],
      "metadata": {
        "id": "b70mr1yYfIw4"
      }
    },
    {
      "cell_type": "code",
      "execution_count": 1,
      "metadata": {
        "colab": {
          "base_uri": "https://localhost:8080/"
        },
        "id": "NlIud-nU4E3W",
        "outputId": "eedf85e9-fc67-4e2b-c3c3-7b2e2b109d38"
      },
      "outputs": [
        {
          "output_type": "stream",
          "name": "stdout",
          "text": [
            "Writing musica.txt\n"
          ]
        }
      ],
      "source": [
        "%%writefile musica.txt\n",
        "Roda Viva\n",
        "Chico Buarque\n",
        "Tem dias que a gente se sente\n",
        "Como quem partiu ou morreu\n",
        "A gente estancou de repente\n",
        "Ou foi o mundo então que cresceu\n",
        "A gente quer ter voz ativa\n",
        "No nosso destino mandar\n",
        "Mas eis que chega a roda viva\n",
        "E carrega o destino pra lá\n",
        "Roda mundo, roda-gigante\n",
        "Roda moinho, roda pião\n",
        "O tempo rodou num instante\n",
        "Nas voltas do meu coração\n",
        "A gente vai contra a corrente\n",
        "Até não poder resistir\n",
        "Na volta do barco é que sente\n",
        "O quanto deixou de cumprir\n",
        "Faz tempo que a gente cultiva\n",
        "A mais linda roseira que há\n",
        "Mas eis que chega a roda viva\n",
        "E carrega a roseira pra lá\n",
        "Roda mundo, roda-gigante\n",
        "Roda moinho, roda pião\n"
      ]
    },
    {
      "cell_type": "code",
      "source": [
        "class ArquivoTexto(object):\n",
        "  def __init__(self, arquivo: str):\n",
        "    self.arquivo = arquivo\n",
        "    self.conteudo = self.extrair_linha\n",
        "\n",
        "  def extrair_linha(self, numero_linha: int):\n",
        "    with open(file=self.arquivo, mode='r', encoding='utf8') as arquivo:\n",
        "      conteudo = arquivo.readlines()\n",
        "      return conteudo[numero_linha]\n",
        "\n",
        "\n",
        "\n",
        "arquivo_texto = ArquivoTexto(arquivo='musica.txt')\n",
        "numero_linha = 0\n",
        "print(arquivo_texto.extrair_linha(numero_linha=numero_linha))"
      ],
      "metadata": {
        "id": "Ufw9B1zl4hFT",
        "colab": {
          "base_uri": "https://localhost:8080/"
        },
        "outputId": "d519fca9-25af-4e8d-dee4-2ccccabd3634"
      },
      "execution_count": 2,
      "outputs": [
        {
          "output_type": "stream",
          "name": "stdout",
          "text": [
            "Roda Viva\n",
            "\n"
          ]
        }
      ]
    },
    {
      "cell_type": "markdown",
      "source": [
        "# **2. Classe para ler arquivos de csv**\n"
      ],
      "metadata": {
        "id": "9v0i6-cLf4C4"
      }
    },
    {
      "cell_type": "code",
      "source": [
        "%%writefile carros.csv\n",
        "id,valor_venda,valor_manutencao,portas,pessoas,porta_malas\n",
        "1,vhigh,med,2,2,small\n",
        "2,med,vhigh,2,2,small\n",
        "3,low,vhigh,2,2,small\n",
        "4,low,high,2,2,small\n",
        "5,low,high,2,2,small\n",
        "6,low,high,4,4,big\n",
        "7,low,high,4,4,big\n",
        "8,low,med,2,2,small\n",
        "9,low,med,2,2,small\n",
        "10,low,med,2,2,small\n",
        "11,low,med,4,4,big\n",
        "12,low,low,2,2,small\n",
        "13,low,low,4,4,small\n",
        "14,low,low,4,4,med\n"
      ],
      "metadata": {
        "colab": {
          "base_uri": "https://localhost:8080/"
        },
        "id": "1STF5y1gCJ8U",
        "outputId": "17408cc7-7a8a-4940-e3c7-794d873d6b93"
      },
      "execution_count": null,
      "outputs": [
        {
          "output_type": "stream",
          "name": "stdout",
          "text": [
            "Overwriting carros.csv\n"
          ]
        }
      ]
    },
    {
      "cell_type": "code",
      "source": [
        "import csv\n",
        "\n",
        "class ArquivoCSV(object):\n",
        "  def __init__(self, arquivo: str):\n",
        "    self.arquivo = arquivo\n",
        "    self.col = self.extrair_coluna_da_linha\n",
        "    self.colunas = self.extrair_linha\n",
        "\n",
        "\n",
        "  def extrair_linha(self, numero_linha: int):\n",
        "    with open(file=self.arquivo, mode='r', encoding='utf8') as arquivo:\n",
        "      lista = arquivo.readlines()\n",
        "      colunas = []\n",
        "      for i in lista:\n",
        "        colunas.append(i)\n",
        "      return colunas[numero_linha]\n",
        "\n",
        "\n",
        "  def extrair_coluna_da_linha(self, numero_linha: int, numero_coluna: int):\n",
        "    with open(file=self.arquivo, mode='r', encoding='utf8') as arquivo:\n",
        "      lista = csv.reader(arquivo)\n",
        "      col = []\n",
        "      for i in lista:\n",
        "        col.append(i)\n",
        "      return col[numero_linha][numero_coluna]\n",
        "\n",
        "\n",
        "\n",
        "arquivo_csv = ArquivoCSV(arquivo='carros.csv')\n",
        "\n",
        "numero_linha = 0\n",
        "print(arquivo_csv.extrair_linha(numero_linha=numero_linha))\n",
        "\n",
        "\n",
        "numero_linha = 10\n",
        "numero_coluna = 2\n",
        "\n",
        "print(\n",
        " arquivo_csv.extrair_coluna_da_linha(\n",
        " numero_linha=numero_linha,\n",
        " numero_coluna=numero_coluna\n",
        " )\n",
        ")\n",
        "\n",
        "\n"
      ],
      "metadata": {
        "colab": {
          "base_uri": "https://localhost:8080/"
        },
        "id": "CkaSD16a-o83",
        "outputId": "751888ad-1477-40f9-e1f5-b1132f4cc091"
      },
      "execution_count": null,
      "outputs": [
        {
          "output_type": "stream",
          "name": "stdout",
          "text": [
            "id,valor_venda,valor_manutencao,portas,pessoas,porta_malas\n",
            "\n",
            "med\n"
          ]
        }
      ]
    }
  ]
}