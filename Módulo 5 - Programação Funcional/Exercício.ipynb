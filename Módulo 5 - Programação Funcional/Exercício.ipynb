{
  "nbformat": 4,
  "nbformat_minor": 0,
  "metadata": {
    "colab": {
      "name": "Exercício | Módulo 5 - Programação Funcional.ipynb",
      "provenance": [],
      "collapsed_sections": []
    },
    "kernelspec": {
      "name": "python3",
      "display_name": "Python 3"
    },
    "language_info": {
      "name": "python"
    }
  },
  "cells": [
    {
      "cell_type": "code",
      "execution_count": null,
      "metadata": {
        "colab": {
          "base_uri": "https://localhost:8080/"
        },
        "id": "LspZllqPATpX",
        "outputId": "99ed01bb-477a-4ecf-c748-ba8dcb64eebb"
      },
      "outputs": [
        {
          "output_type": "stream",
          "name": "stdout",
          "text": [
            "Writing credito.csv\n"
          ]
        }
      ],
      "source": [
        "\n",
        "%%writefile credito.csv\n",
        "id_vendedor,valor_emprestimos,quantidade_emprestimos,data\n",
        "104271,448.0,1,20161208\n",
        "21476,826.7,3,20161208\n",
        "87440,313.6,3,20161208\n",
        "15980,-8008.0,6,20161208\n",
        "215906,2212.0,5,20161208\n",
        "33696,2771.3,2,20161208\n",
        "33893,2240.0,3,20161208\n",
        "214946,-4151.0,18,20161208\n",
        "123974,2021.95,2,20161208\n",
        "225870,4039.0,2,20161208\n"
      ]
    },
    {
      "cell_type": "code",
      "source": [
        "emprestimos = []\n",
        "with open(file='./credito.csv', mode='r', encoding='utf8') as fp:\n",
        "  fp.readline() # cabeçalho\n",
        "  linha = fp.readline()\n",
        "  while linha:\n",
        "    linha_emprestimo = {}\n",
        "    linha_elementos = linha.strip().split(sep=',')\n",
        "    linha_emprestimo['id_vendedor'] = linha_elementos[0]\n",
        "    linha_emprestimo['valor_emprestimos'] = linha_elementos[1]\n",
        "    linha_emprestimo['quantidade_emprestimos'] = linha_elementos[2]\n",
        "    linha_emprestimo['data'] = linha_elementos[3]\n",
        "    emprestimos.append(linha_emprestimo)\n",
        "    linha = fp.readline()"
      ],
      "metadata": {
        "id": "nx0qN667Aft5"
      },
      "execution_count": null,
      "outputs": []
    },
    {
      "cell_type": "markdown",
      "source": [
        "# **1. Função map**\n"
      ],
      "metadata": {
        "id": "WOWULV_2BXUs"
      }
    },
    {
      "cell_type": "code",
      "source": [
        "valor_emprestimos_mapa = map(lambda valor_emprestimo : float(valor_emprestimo['valor_emprestimos']), emprestimos)\n",
        "valor_emprestimos_lista = list(valor_emprestimos_mapa)\n",
        "print(valor_emprestimos_lista)"
      ],
      "metadata": {
        "colab": {
          "base_uri": "https://localhost:8080/"
        },
        "id": "mwO7PR3pAxdn",
        "outputId": "2588be9e-1618-4779-f838-3fc365c886d3"
      },
      "execution_count": null,
      "outputs": [
        {
          "output_type": "stream",
          "name": "stdout",
          "text": [
            "[448.0, 826.7, 313.6, -8008.0, 2212.0, 2771.3, 2240.0, -4151.0, 2021.95, 4039.0]\n"
          ]
        }
      ]
    },
    {
      "cell_type": "markdown",
      "source": [
        "# **2. Função filter**\n"
      ],
      "metadata": {
        "id": "rzrfWQoaBf14"
      }
    },
    {
      "cell_type": "code",
      "source": [
        "valor_emprestimos_mapa = map(lambda valor_emprestimo : float(valor_emprestimo['valor_emprestimos']), emprestimos)\n",
        "filtro = filter(lambda num: num > 0, list(valor_emprestimos_mapa))\n",
        "valor_emprestimos_lista_filtrada = list(filtro)\n",
        "print(valor_emprestimos_lista_filtrada)"
      ],
      "metadata": {
        "colab": {
          "base_uri": "https://localhost:8080/"
        },
        "id": "nHP6IdOl0QSp",
        "outputId": "867fcaf2-4abb-49c3-9be2-9414798b0ff0"
      },
      "execution_count": null,
      "outputs": [
        {
          "output_type": "stream",
          "name": "stdout",
          "text": [
            "[448.0, 826.7, 313.6, 2212.0, 2771.3, 2240.0, 2021.95, 4039.0]\n"
          ]
        }
      ]
    },
    {
      "cell_type": "markdown",
      "source": [
        "# **3. Função reduce**\n",
        "\n",
        "## 3.1. Função reduce para extrair a soma"
      ],
      "metadata": {
        "id": "r3PbK0blBs14"
      }
    },
    {
      "cell_type": "code",
      "source": [
        "from functools import reduce\n",
        "soma = reduce(lambda cont, num: cont + num, valor_emprestimos_lista_filtrada)\n",
        "soma_valor_emprestimos = soma\n",
        "print(soma_valor_emprestimos)"
      ],
      "metadata": {
        "colab": {
          "base_uri": "https://localhost:8080/"
        },
        "id": "Evyl6pIYm1cu",
        "outputId": "7bc1d3fc-ceb0-46cb-ad4c-6f5b8fe9b06e"
      },
      "execution_count": null,
      "outputs": [
        {
          "output_type": "stream",
          "name": "stdout",
          "text": [
            "14872.550000000001\n"
          ]
        }
      ]
    },
    {
      "cell_type": "markdown",
      "source": [
        "## 3.2. Função reduce para extrair a media aritimética\n"
      ],
      "metadata": {
        "id": "I2sPq35CB7PM"
      }
    },
    {
      "cell_type": "code",
      "source": [
        "from functools import reduce\n",
        "import statistics as st\n",
        "media_valor_emprestimos = reduce(lambda cont, num: num + cont, valor_emprestimos_lista_filtrada) / len(valor_emprestimos_lista_filtrada)\n",
        "print(media_valor_emprestimos)\n",
        "\n"
      ],
      "metadata": {
        "colab": {
          "base_uri": "https://localhost:8080/"
        },
        "id": "vyJHqfYn7cdH",
        "outputId": "b297bec1-8a7c-4c13-dae5-1111a777654b"
      },
      "execution_count": null,
      "outputs": [
        {
          "output_type": "stream",
          "name": "stdout",
          "text": [
            "1859.0687500000001\n"
          ]
        }
      ]
    },
    {
      "cell_type": "markdown",
      "source": [
        "## 3.3. (Desafio) Função reduce para extrair o desvio padrã"
      ],
      "metadata": {
        "id": "RPjgvQCWCGhF"
      }
    },
    {
      "cell_type": "code",
      "source": [
        "from functools import reduce\n",
        "import statistics as st\n",
        "desvio_padrao_valor_emprestimos = reduce(lambda cont, num: st.stdev(valor_emprestimos_lista_filtrada), valor_emprestimos_lista_filtrada)\n",
        "print(desvio_padrao_valor_emprestimos)"
      ],
      "metadata": {
        "colab": {
          "base_uri": "https://localhost:8080/"
        },
        "id": "Do-H8EEp7v-K",
        "outputId": "c557f737-f342-4e51-fc48-c4de5d2f94a9"
      },
      "execution_count": null,
      "outputs": [
        {
          "output_type": "stream",
          "name": "stdout",
          "text": [
            "1271.997271149785\n"
          ]
        }
      ]
    }
  ]
}